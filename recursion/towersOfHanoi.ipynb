{
 "cells": [
  {
   "cell_type": "markdown",
   "metadata": {},
   "source": [
    "# Towers of Hanoi Algorithm\n",
    "\n",
    "## Introduction\n",
    "\n",
    "The **Towers of Hanoi** problem is a classic mathematical puzzle that tests our ability to organize and move objects under specific rules. Originally proposed by the French mathematician Édouard Lucas in 1883, this problem has become a standard example in the study of **recursion** and **algorithmic efficiency**.\n",
    "\n",
    "## Problem Description\n",
    "\n",
    "Imagine three vertical rods arranged in a row and a set of disks of varying sizes stacked on the first rod (the starting rod), with the largest disk on the bottom and the smaller disks stacked in decreasing size order toward the top. The objective is to move the entire stack of disks from the first rod (starting tower) to the last rod (destination tower), following three strict rules:\n",
    "\n",
    "1. **Only one disk can be moved at a time**.\n",
    "2. **A larger disk cannot be placed on top of a smaller disk**.\n",
    "3. **Disks can only be moved among the three rods**.\n",
    "\n",
    "## Recursive Solution\n",
    "\n",
    "The solution to the Towers of Hanoi problem utilizes a **recursive approach**. Recursion is a problem-solving method that breaks down a large problem into smaller sub-problems that follow the same structure. In this case, the problem is divided by moving smaller disks to an auxiliary rod before transferring the largest disk to the destination rod.\n",
    "\n",
    "To solve the problem with `n` disks, the basic steps are:\n",
    "\n",
    "1. Move the top `n-1` disks from the starting rod to an auxiliary rod.\n",
    "2. Move the largest disk (the `n`th disk) directly to the destination rod.\n",
    "3. Move the `n-1` disks from the auxiliary rod to the destination rod.\n",
    "\n",
    "With each recursive step, the number of disks decreases until we reach the base case: **moving a single disk**. This recursive solution generates the optimal sequence of moves, allowing the entire stack to be transferred in the fewest possible steps.\n",
    "\n",
    "## Algorithm Complexity\n",
    "\n",
    "The optimal solution for the Towers of Hanoi problem with `n` disks requires exactly `2^n - 1` moves. This means that the problem grows exponentially as the number of disks increases, causing the time to solve to increase rapidly. For this reason, Towers of Hanoi is frequently used to illustrate the concept of computational complexity in recursive algorithms.\n",
    "\n",
    "## Code Implementation and Visualization\n",
    "\n",
    "In the accompanying code, the recursive implementation handles the disk movements, with each move visualized in the console to help illustrate the steps of the algorithm. The visualization shows how disks are transferred from one rod to another, step-by-step, adhering to the problem’s restrictions.\n",
    "\n",
    "By following along with the visualization, readers can better understand the logic behind each move and the recursive process that guides the solution to this classic puzzle."
   ]
  },
  {
   "cell_type": "code",
   "execution_count": 70,
   "metadata": {},
   "outputs": [],
   "source": [
    "class Tower:\n",
    "    def __init__(self, towerID, numberOfDisks):\n",
    "        self.towerID = towerID\n",
    "        # Initializes the tower with an empty or filled list of disks based on its ID\n",
    "        self.disks = list(reversed(range(1, numberOfDisks + 1))) if towerID == 1 else [0] * numberOfDisks"
   ]
  },
  {
   "cell_type": "code",
   "execution_count": 71,
   "metadata": {},
   "outputs": [],
   "source": [
    "def defineTowers(numberOfDisks, numberOfTowers=3):\n",
    "    return {f'tower_{n}': Tower(n, numberOfDisks) for n in range(1, numberOfTowers + 1)}\n",
    "\n",
    "def towerStack(tower, disk):\n",
    "    for i, slot in enumerate(tower.disks):\n",
    "        if slot == 0:\n",
    "            tower.disks[i] = disk\n",
    "            return\n",
    "        \n",
    "def towerUnstack(tower):\n",
    "    if 0 in tower.disks:\n",
    "        lastDiskIndex = tower.disks.index(0) - 1\n",
    "    else:\n",
    "        lastDiskIndex = -1\n",
    "    disk = tower.disks[lastDiskIndex]\n",
    "    tower.disks[lastDiskIndex] = 0\n",
    "    return disk\n",
    "\n",
    "def moveDisk(listOfTowers, startTower, endTower):\n",
    "    startTower = listOfTowers[f'tower_{startTower}']\n",
    "    endTower = listOfTowers[f'tower_{endTower}']\n",
    "    disk = towerUnstack(startTower)\n",
    "    towerStack(endTower, disk)\n",
    "\n",
    "def drawTower(tower):\n",
    "    print(f\"Tower {tower.towerID}\")\n",
    "    reversedDisks = list(reversed(tower.disks))\n",
    "    for disk in reversedDisks:\n",
    "        if disk == 0:\n",
    "            print(' ' * (len(reversedDisks) + 1) + '|')\n",
    "        else:\n",
    "            spaces = ' ' * (len(reversedDisks) + 1 - disk)\n",
    "            print(f\"{spaces}{'_' * disk}|{'_' * disk}\")\n",
    "\n",
    "def drawAllTowers(listOfTowers):\n",
    "    for tower in listOfTowers.values():\n",
    "        drawTower(tower)"
   ]
  },
  {
   "cell_type": "code",
   "execution_count": 80,
   "metadata": {},
   "outputs": [],
   "source": [
    "from IPython.display import clear_output\n",
    "import time\n",
    "\n",
    "def towersOfHanoi(numberOfDisks, listOfTowers, displayInConsole=False, visualizeSteps=False, startTower=1, endTower=3, count=0):\n",
    "    if numberOfDisks == 0:\n",
    "        return count\n",
    "    \n",
    "    # Move the top disks to an auxiliary tower\n",
    "    auxTower = 6 - startTower - endTower\n",
    "    count = towersOfHanoi(numberOfDisks - 1, listOfTowers, displayInConsole, visualizeSteps, startTower, auxTower, count)\n",
    "\n",
    "    # Move the current disk and visualize if necessary\n",
    "    print(f\"Move disk {numberOfDisks} from tower {startTower} to tower {endTower}\")\n",
    "    count += 1\n",
    "    if displayInConsole:\n",
    "        moveDisk(listOfTowers, startTower, endTower)\n",
    "        drawAllTowers(listOfTowers)\n",
    "        \n",
    "        if visualizeSteps:\n",
    "            time.sleep(1)\n",
    "            clear_output(wait=True)\n",
    "\n",
    "    # Move the remaining disks from the auxiliary tower to the destination tower\n",
    "    count = towersOfHanoi(numberOfDisks - 1, listOfTowers, displayInConsole, visualizeSteps, auxTower, endTower, count)\n",
    "    return count\n",
    "\n",
    "def visualizeHanoiSolution(numberOfDisks, displayInConsole=True):\n",
    "    listOfTowers = defineTowers(numberOfDisks)\n",
    "    print(f\"We have {numberOfDisks} disks\")\n",
    "        \n",
    "    if displayInConsole:\n",
    "        drawAllTowers(listOfTowers)\n",
    "        time.sleep(5)\n",
    "        clear_output(wait=True)\n",
    "    \n",
    "    total_steps = towersOfHanoi(numberOfDisks, listOfTowers, displayInConsole, visualizeSteps=True)\n",
    "    print(f\"Solved in {total_steps} steps\")\n"
   ]
  },
  {
   "cell_type": "code",
   "execution_count": 78,
   "metadata": {},
   "outputs": [
    {
     "name": "stdout",
     "output_type": "stream",
     "text": [
      "Move disk 1 from tower 1 to tower 3\n",
      "Move disk 2 from tower 1 to tower 2\n",
      "Move disk 1 from tower 3 to tower 2\n",
      "Move disk 3 from tower 1 to tower 3\n",
      "Move disk 1 from tower 2 to tower 1\n",
      "Move disk 2 from tower 2 to tower 3\n",
      "Move disk 1 from tower 1 to tower 3\n",
      "Move disk 4 from tower 1 to tower 2\n",
      "Move disk 1 from tower 3 to tower 2\n",
      "Move disk 2 from tower 3 to tower 1\n",
      "Move disk 1 from tower 2 to tower 1\n",
      "Move disk 3 from tower 3 to tower 2\n",
      "Move disk 1 from tower 1 to tower 3\n",
      "Move disk 2 from tower 1 to tower 2\n",
      "Move disk 1 from tower 3 to tower 2\n",
      "Move disk 5 from tower 1 to tower 3\n",
      "Move disk 1 from tower 2 to tower 1\n",
      "Move disk 2 from tower 2 to tower 3\n",
      "Move disk 1 from tower 1 to tower 3\n",
      "Move disk 3 from tower 2 to tower 1\n",
      "Move disk 1 from tower 3 to tower 2\n",
      "Move disk 2 from tower 3 to tower 1\n",
      "Move disk 1 from tower 2 to tower 1\n",
      "Move disk 4 from tower 2 to tower 3\n",
      "Move disk 1 from tower 1 to tower 3\n",
      "Move disk 2 from tower 1 to tower 2\n",
      "Move disk 1 from tower 3 to tower 2\n",
      "Move disk 3 from tower 1 to tower 3\n",
      "Move disk 1 from tower 2 to tower 1\n",
      "Move disk 2 from tower 2 to tower 3\n",
      "Move disk 1 from tower 1 to tower 3\n"
     ]
    },
    {
     "data": {
      "text/plain": [
       "31"
      ]
     },
     "execution_count": 78,
     "metadata": {},
     "output_type": "execute_result"
    }
   ],
   "source": [
    "towersOfHanoi(5, None)"
   ]
  },
  {
   "cell_type": "code",
   "execution_count": 79,
   "metadata": {},
   "outputs": [
    {
     "name": "stdout",
     "output_type": "stream",
     "text": [
      "Solved in 31 steps\n"
     ]
    }
   ],
   "source": [
    "visualizeHanoiSolution(5, True)"
   ]
  }
 ],
 "metadata": {
  "kernelspec": {
   "display_name": "Python 3",
   "language": "python",
   "name": "python3"
  },
  "language_info": {
   "codemirror_mode": {
    "name": "ipython",
    "version": 3
   },
   "file_extension": ".py",
   "mimetype": "text/x-python",
   "name": "python",
   "nbconvert_exporter": "python",
   "pygments_lexer": "ipython3",
   "version": "3.12.7"
  }
 },
 "nbformat": 4,
 "nbformat_minor": 2
}
